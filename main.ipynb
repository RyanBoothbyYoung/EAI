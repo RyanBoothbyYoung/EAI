{
 "cells": [
  {
   "cell_type": "markdown",
   "id": "be20d2a5-dc7f-4896-ab2c-70d2a4895f61",
   "metadata": {},
   "source": [
    "# Introduction #\n",
    "\n",
    "In the ever-evolving landscape of financial markets, data-driven decision-making is becoming increasingly essential [source]. The integration of artificial intelligence (AI) into finance, particularly through the use of machine learning models, has shown significant potential in optimizing investment strategies [source]. However, the complexity of financial markets requires more than just individual models. An ensemble approach— leveraging multiple models to assess financial, economic, and sentiment data —may provide a more comprehensive and accurate view of market opportunities.\n",
    "\n",
    "This project aims to explore the design and development of a hybrid ensemble AI system for investment analysis. By combining technical, fundamental, economic, and sentiment-based models, the system seeks to generate reliable buy and sell signals only when a consensus is reached. The goal is to enhance accuracy and profitability in trading decisions by reducing noise and improving the reliability of predictions.\n",
    "\n",
    "In addition to building a practical financial tool, this project serves as a research endeavor to deepen understanding of AI ensemble methods, their application in finance, and their potential to outperform individual models or traditional strategies.\n",
    "\n",
    "## Objectives ##\n",
    "\n",
    "To design and implement a hybrid ensemble AI system that integrates multiple financial analysis models—technical, fundamental, economic, and sentiment-based—to provide data-driven investment signals. By requiring a threshold of consensus among models through the use of weighted voting, the system aims to improve decision-making accuracy and profitability in trading strategies.\n",
    "\n",
    "## Research & Learning Objectives ##\n",
    "\n",
    "To deepen the understanding of ensemble AI methods in financial markets, exploring the interaction between different model types and refining techniques for model integration, consensus mechanisms, and trading strategy optimization. This project also serves as a learning platform to enhance practical skills in AI development, evaluation, and deployment within the context of algorithmic trading.\n",
    "\n",
    "# Methodology / Approach #\n",
    "\n",
    "The primary focus of this project is on the AI-driven decision-making process rather than the mechanics of trading bot development. Therefore, we will leverage established trading bot libraries that allow for the easy definition and implementation of various trading strategies. Using these libraries provides several advantages:\n",
    "- Ease of use: They are user-friendly and provide abstractions that allow us to focus on the AI aspects.\n",
    "- Time-efficient: Utilizing pre-built libraries reduces the time needed to develop a functioning backtesting system.\n",
    "- Project focus: Since the goal of this project is to experiment with and improve AI models, rather than creating a custom trading bot, these libraries allow us to dedicate more resources to the AI components.\n",
    "\n",
    "Each model within the ensemble will be designed using modern AI techniques (e.g., deep learning, reinforcement learning, or hybrid models) and will be trained to function independently. The performance of each model will be benchmarked against established financial indices such as the S&P 500 or NASDAQ 100, ensuring that each model performs at a level competitive with general market trends.\n",
    "\n",
    "Each model will operate independently, utilizing distinct data sets related to the target security, which will encompass technical, fundamental, and sentiment-based features. Each model will provide a prediction in the form of a buy signal. It is important to note that the system is not tasked with identifying sell signals; the goal is to identify optimal buy opportunities, with the assumption that sell strategies may be handled by other components or human decision-makers.\n",
    "\n",
    "Once each model provides its buy signal, the outputs will be aggregated using a weighted voting system. This system allows for models with higher accuracy or reliability to have a greater influence on the final decision. A predefined threshold will be applied, and if the aggregate signal exceeds the threshold, the system will generate a buy recommendation. The threshold is adjustable and can be fine-tuned during testing to balance risk and reward.\n",
    "\n",
    "\n",
    "## Technologies ##\n",
    "\n",
    "lorem ipsum\n",
    "\n",
    "## Expected Outcomes ##\n",
    "\n",
    "lorem ipsum\n",
    "\n",
    "\n"
   ]
  },
  {
   "cell_type": "code",
   "execution_count": 1,
   "id": "8a0946b6-e67f-45cf-9241-b546e04a0f46",
   "metadata": {},
   "outputs": [],
   "source": [
    "# Libraries\n",
    "\n",
    "\n",
    "# ===================================\n",
    "# Data Processing Imports\n",
    "# ===================================\n",
    "\n",
    "\n",
    "# ===================================\n",
    "# Trading Bot Imports\n",
    "# ===================================\n",
    "import backtrader as bt\n",
    "import yfinance as yf\n",
    "from datetime import datetime\n",
    "\n",
    "\n",
    "# ===================================\n",
    "# AI Architecture Imports\n",
    "# ==================================="
   ]
  },
  {
   "cell_type": "markdown",
   "id": "b05887d8-f0ee-438d-929c-bd02896e1a96",
   "metadata": {},
   "source": [
    "## Trading Bots ##\n",
    "\n",
    "The first step in this research is the implementation of several trading bots. Each bot is designed to operate based on well established but different trading strategies. \n",
    "\n",
    "Each bot will independently generate trading data, including buy/sell signals, performance metrics, and market conditions, and fundamentals of the particular security. This data will serve as the training dataset for its corresponding AI model within the ensemble. This approach allows for a diverse range of inputs and methodologies, enhancing the overall robustness and adaptability of the system.\n",
    "\n"
   ]
  },
  {
   "cell_type": "markdown",
   "id": "460eee15-dd57-43d6-b2fa-d43fda894fbd",
   "metadata": {},
   "source": [
    "### Trading Strategy: Momentum based investing"
   ]
  },
  {
   "cell_type": "markdown",
   "id": "a428eba5-0940-4e54-92a5-105362552c04",
   "metadata": {},
   "source": [
    "In this strategy the bot trades based off current momentum trends in the market. It buys when a stock has positive momentum over some perioud of time and then sells when that momentum turns negative. This strategy has performed well over recent years [SOURCE] and has some key advantages and disadvantages:\n",
    "\n",
    "Advantages\n",
    "- Trend Following: Momentum strategies capitalize on established trends, potentially leading to higher returns during bull markets.\n",
    "\n",
    "- Behavioral Finance: They exploit behavioral biases, such as the tendency for investors to overreact to news or trends, allowing for profits from mispriced assets.\n",
    "\n",
    "- Simplicity: Momentum strategies can be relatively straightforward to implement, using clear signals based on price movement.\n",
    "\n",
    "- Historical Success: Many studies suggest that momentum strategies have historically outperformed the market over certain time frames.\n",
    "\n",
    "- Diversification: Momentum can be applied across various asset classes (stocks, commodities, currencies), offering diversification benefits.\n",
    "\n",
    "Disadvantages\n",
    "\n",
    "- Reversals: Momentum can lead to significant losses if a trend reverses unexpectedly, as past performance does not guarantee future results.\n",
    "\n",
    "- Market Volatility: During volatile or sideways markets, momentum strategies may struggle, leading to whipsaw losses.\n",
    "\n",
    "- High Turnover: These strategies often require frequent trading, which can lead to higher transaction costs and tax implications.\n",
    "\n",
    "- Risk of Herding: Momentum strategies can contribute to market bubbles as many traders chase the same trends, leading to instability when trends reverse.\n",
    "\n",
    "- Lagging Indicators: Momentum indicators may lag in signaling the reversal of trends, causing late entry or exit points that reduce potential profits.\n",
    "\n"
   ]
  },
  {
   "cell_type": "code",
   "execution_count": null,
   "id": "ab7729c3-bb46-41c9-984b-c13731db9e1c",
   "metadata": {},
   "outputs": [],
   "source": [
    "class MomentumStrategy(bt.Strategy):\n",
    "    params = ((momentum_period, 20),)\n",
    "\n",
    "    def __init__(self):\n",
    "        #dictionary for momentum indicators of each stock\n",
    "        self.momentum = {}\n",
    "        for i, data in enumerate(self.datas):\n",
    "            self.momentum[data] = bt.indicators.Momentum(data.close, period = self.params.momentum_period)\n",
    "\n",
    "    def next(self):\n",
    "        # Loop through each stock and make trading decisions:\n",
    "        for i, data in enumerate(self.datas):\n",
    "            #buy condition\n",
    "            if self.momentum[data][0] > 0 and not self.getposition(data):\n",
    "                self.buy()\n",
    "            #sell condition\n",
    "            elif self.momentum[data][0] < 0 and self.getposition(data):\n",
    "                self.sell()\n",
    "    "
   ]
  },
  {
   "cell_type": "code",
   "execution_count": null,
   "id": "1cf3ffbf-2e38-4164-b75e-fe004f3ef0e2",
   "metadata": {},
   "outputs": [],
   "source": []
  }
 ],
 "metadata": {
  "kernelspec": {
   "display_name": "Python 3 (ipykernel)",
   "language": "python",
   "name": "python3"
  },
  "language_info": {
   "codemirror_mode": {
    "name": "ipython",
    "version": 3
   },
   "file_extension": ".py",
   "mimetype": "text/x-python",
   "name": "python",
   "nbconvert_exporter": "python",
   "pygments_lexer": "ipython3",
   "version": "3.12.3"
  }
 },
 "nbformat": 4,
 "nbformat_minor": 5
}
