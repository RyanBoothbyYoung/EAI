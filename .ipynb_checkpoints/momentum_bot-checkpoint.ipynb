{
 "cells": [
  {
   "cell_type": "markdown",
   "id": "c2f31882",
   "metadata": {},
   "source": [
    "### Trading Strategy: Momentum based investing"
   ]
  },
  {
   "cell_type": "markdown",
   "id": "2f80a7ca",
   "metadata": {},
   "source": [
    "In this strategy the bot trades based off current momentum trends in the market. It buys when a stock has positive momentum over some perioud of time and then sells when that momentum turns negative. This strategy has performed well over recent years [SOURCE] and has some key advantages and disadvantages:\n",
    "\n",
    "Advantages\n",
    "- Trend Following: Momentum strategies capitalize on established trends, potentially leading to higher returns during bull markets.\n",
    "\n",
    "- Behavioral Finance: They exploit behavioral biases, such as the tendency for investors to overreact to news or trends, allowing for profits from mispriced assets.\n",
    "\n",
    "- Simplicity: Momentum strategies can be relatively straightforward to implement, using clear signals based on price movement.\n",
    "\n",
    "- Historical Success: Many studies suggest that momentum strategies have historically outperformed the market over certain time frames.\n",
    "\n",
    "- Diversification: Momentum can be applied across various asset classes (stocks, commodities, currencies), offering diversification benefits.\n",
    "\n",
    "Disadvantages\n",
    "\n",
    "- Reversals: Momentum can lead to significant losses if a trend reverses unexpectedly, as past performance does not guarantee future results.\n",
    "\n",
    "- Market Volatility: During volatile or sideways markets, momentum strategies may struggle, leading to whipsaw losses.\n",
    "\n",
    "- High Turnover: These strategies often require frequent trading, which can lead to higher transaction costs and tax implications.\n",
    "\n",
    "- Risk of Herding: Momentum strategies can contribute to market bubbles as many traders chase the same trends, leading to instability when trends reverse.\n",
    "\n",
    "- Lagging Indicators: Momentum indicators may lag in signaling the reversal of trends, causing late entry or exit points that reduce potential profits.\n",
    "\n"
   ]
  },
  {
   "cell_type": "code",
   "execution_count": 2,
   "id": "1d86bbef",
   "metadata": {},
   "outputs": [],
   "source": [
    "# Libraries\n",
    "\n",
    "\n",
    "# ===================================\n",
    "# Data Processing Imports\n",
    "# ===================================\n",
    "import pandas as pd\n",
    "import matplotlib.pyplot as plt\n",
    "#%matplotlib inline\n",
    "import random\n",
    "\n",
    "# ===================================\n",
    "# Trading Bot Imports\n",
    "# ===================================\n",
    "import backtrader as bt\n",
    "import yfinance as yf\n",
    "from datetime import datetime\n"
   ]
  },
  {
   "cell_type": "code",
   "execution_count": 4,
   "id": "e4d1077e",
   "metadata": {},
   "outputs": [
    {
     "name": "stdout",
     "output_type": "stream",
     "text": [
      "Current cash in broker account: 100000\n"
     ]
    }
   ],
   "source": [
    "#Initialize the engine and set parameters of the brokers account\n",
    "cerebro = bt.Cerebro()\n",
    "cerebro.broker.setcash(100000)\n",
    "#Check for proper parameter settings\n",
    "print(f\"Current cash in broker account: {cerebro.broker.getvalue()}\")\n",
    "\n"
   ]
  },
  {
   "cell_type": "code",
   "execution_count": null,
   "id": "afc01823",
   "metadata": {},
   "outputs": [],
   "source": []
  }
 ],
 "metadata": {
  "kernelspec": {
   "display_name": "Python 3 (ipykernel)",
   "language": "python",
   "name": "python3"
  },
  "language_info": {
   "codemirror_mode": {
    "name": "ipython",
    "version": 3
   },
   "file_extension": ".py",
   "mimetype": "text/x-python",
   "name": "python",
   "nbconvert_exporter": "python",
   "pygments_lexer": "ipython3",
   "version": "3.8.18"
  }
 },
 "nbformat": 4,
 "nbformat_minor": 5
}
